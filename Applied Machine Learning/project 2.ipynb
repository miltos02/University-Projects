{
 "cells": [
  {
   "cell_type": "markdown",
   "metadata": {},
   "source": [
    "# Social Media Sanctions and Misinformation Sharing   \n",
    "\n",
    "by: **Miltos Tsolkas**   \n",
    "\n",
    "There has been a lot of discussions on politics and sanctions in social media. Specifically, people with conservative beliefs argue that they are more likely to be sanctioned on social media than those with more liberal beliefs.\n",
    "\n",
    "If this happens, however, that may not necessarily be the result of different policies on behalf of the social media companies. It may simply be that people with conservative beliefs post online more questionable content, and so they are more likely to be sanctioned even with a completely neutral sanction policy.\n",
    "\n",
    "In a [recent analysis in Nature](https://www.nature.com/articles/s41586-024-07942-8), Mohshen Moshel et al. investigated whether social media sanctions are politically biased or they are the result of differences in misinformation sharing between people of different political beliefs. The authors argue that that media sanctions are not politically biased. Social media users with conservative political beliefs are more likely to post questionable or misinformation material, and so they are more likely to be sanctioned. We will follow through some of Moshel et al.'s research.\n",
    "\n",
    "We will use their data, available at [mosleh_et_al_data.csv](mosleh_et_al_data.csv).\n",
    "\n",
    "### Step 1: Importing "
   ]
  },
  {
   "cell_type": "code",
   "execution_count": 1,
   "metadata": {
    "dotnet_interactive": {
     "language": "csharp"
    },
    "polyglot_notebook": {
     "kernelName": "csharp"
    }
   },
   "outputs": [],
   "source": [
    "import numpy as np\n",
    "import pandas as pd\n",
    "import matplotlib.pyplot as plt\n",
    "import seaborn as sns"
   ]
  },
  {
   "cell_type": "markdown",
   "metadata": {},
   "source": [
    "### Step 2: Reading the data\n",
    "\n",
    "It's time to read the .csv file and save the data into a variable. "
   ]
  },
  {
   "cell_type": "code",
   "execution_count": 2,
   "metadata": {
    "dotnet_interactive": {
     "language": "csharp"
    },
    "polyglot_notebook": {
     "kernelName": "csharp"
    }
   },
   "outputs": [],
   "source": [
    "mosleh_and_al_data = pd.read_csv('mosleh_et_al_data.csv')"
   ]
  },
  {
   "cell_type": "markdown",
   "metadata": {},
   "source": [
    "Let's see if there are any NaN values and in which columns they exist"
   ]
  },
  {
   "cell_type": "code",
   "execution_count": null,
   "metadata": {
    "dotnet_interactive": {
     "language": "csharp"
    },
    "polyglot_notebook": {
     "kernelName": "csharp"
    }
   },
   "outputs": [
    {
     "name": "stdout",
     "output_type": "stream",
     "text": [
      "3418\n"
     ]
    }
   ],
   "source": [
    "nan_count = mosleh_and_al_data.isnull().sum().sum()\n",
    "print(nan_count)"
   ]
  },
  {
   "cell_type": "markdown",
   "metadata": {},
   "source": [
    "Okay, let's remove lines with NaN values"
   ]
  },
  {
   "cell_type": "code",
   "execution_count": 4,
   "metadata": {
    "dotnet_interactive": {
     "language": "csharp"
    },
    "polyglot_notebook": {
     "kernelName": "csharp"
    }
   },
   "outputs": [],
   "source": [
    "mosleh_and_al_data = mosleh_and_al_data.dropna()"
   ]
  },
  {
   "cell_type": "markdown",
   "metadata": {},
   "source": [
    "Let's check again for NaNs"
   ]
  },
  {
   "cell_type": "code",
   "execution_count": 5,
   "metadata": {
    "dotnet_interactive": {
     "language": "csharp"
    },
    "polyglot_notebook": {
     "kernelName": "csharp"
    }
   },
   "outputs": [
    {
     "name": "stdout",
     "output_type": "stream",
     "text": [
      "0\n"
     ]
    }
   ],
   "source": [
    "nan_count = mosleh_and_al_data.isnull().sum().sum()\n",
    "print(nan_count)"
   ]
  },
  {
   "cell_type": "markdown",
   "metadata": {},
   "source": [
    "Checking the first 10 lines"
   ]
  },
  {
   "cell_type": "code",
   "execution_count": 6,
   "metadata": {
    "dotnet_interactive": {
     "language": "csharp"
    },
    "polyglot_notebook": {
     "kernelName": "csharp"
    }
   },
   "outputs": [
    {
     "data": {
      "text/html": [
       "<div>\n",
       "<style scoped>\n",
       "    .dataframe tbody tr th:only-of-type {\n",
       "        vertical-align: middle;\n",
       "    }\n",
       "\n",
       "    .dataframe tbody tr th {\n",
       "        vertical-align: top;\n",
       "    }\n",
       "\n",
       "    .dataframe thead th {\n",
       "        text-align: right;\n",
       "    }\n",
       "</style>\n",
       "<table border=\"1\" class=\"dataframe\">\n",
       "  <thead>\n",
       "    <tr style=\"text-align: right;\">\n",
       "      <th></th>\n",
       "      <th>politics_sites2</th>\n",
       "      <th>politics_sites1</th>\n",
       "      <th>politics_followed</th>\n",
       "      <th>lowqual_pr2019_crowd</th>\n",
       "      <th>lowqual_pr2019_fc</th>\n",
       "      <th>lowqual_afm</th>\n",
       "      <th>lowqual_mbfc</th>\n",
       "      <th>lowqual_lasser2019</th>\n",
       "      <th>suspended</th>\n",
       "      <th>politics_hashtag</th>\n",
       "      <th>...</th>\n",
       "      <th>valence_neg</th>\n",
       "      <th>valence_neu</th>\n",
       "      <th>valence_pos</th>\n",
       "      <th>politics_sites2_ideo_std</th>\n",
       "      <th>hashtag_ideo_std</th>\n",
       "      <th>barbera_std</th>\n",
       "      <th>politics_sites1_std</th>\n",
       "      <th>repeated_tweet_count</th>\n",
       "      <th>freq_pr_1h</th>\n",
       "      <th>bad_domain_count</th>\n",
       "    </tr>\n",
       "  </thead>\n",
       "  <tbody>\n",
       "    <tr>\n",
       "      <th>0</th>\n",
       "      <td>-0.231902</td>\n",
       "      <td>-1.168745</td>\n",
       "      <td>-0.080295</td>\n",
       "      <td>0.598883</td>\n",
       "      <td>0.279221</td>\n",
       "      <td>0.185315</td>\n",
       "      <td>0.292807</td>\n",
       "      <td>0.350000</td>\n",
       "      <td>0</td>\n",
       "      <td>0</td>\n",
       "      <td>...</td>\n",
       "      <td>0.109935</td>\n",
       "      <td>0.813230</td>\n",
       "      <td>0.076835</td>\n",
       "      <td>0.274317</td>\n",
       "      <td>0.0</td>\n",
       "      <td>0.909460</td>\n",
       "      <td>69</td>\n",
       "      <td>86.0</td>\n",
       "      <td>30</td>\n",
       "      <td>7</td>\n",
       "    </tr>\n",
       "    <tr>\n",
       "      <th>1</th>\n",
       "      <td>0.405261</td>\n",
       "      <td>1.060905</td>\n",
       "      <td>2.296375</td>\n",
       "      <td>0.774873</td>\n",
       "      <td>0.848639</td>\n",
       "      <td>0.614156</td>\n",
       "      <td>0.513147</td>\n",
       "      <td>0.975087</td>\n",
       "      <td>0</td>\n",
       "      <td>1</td>\n",
       "      <td>...</td>\n",
       "      <td>0.115985</td>\n",
       "      <td>0.793715</td>\n",
       "      <td>0.090250</td>\n",
       "      <td>0.351800</td>\n",
       "      <td>0.0</td>\n",
       "      <td>0.157056</td>\n",
       "      <td>623</td>\n",
       "      <td>133.0</td>\n",
       "      <td>26</td>\n",
       "      <td>20</td>\n",
       "    </tr>\n",
       "    <tr>\n",
       "      <th>2</th>\n",
       "      <td>-0.171067</td>\n",
       "      <td>-0.500076</td>\n",
       "      <td>-2.312730</td>\n",
       "      <td>0.548727</td>\n",
       "      <td>0.242347</td>\n",
       "      <td>0.130950</td>\n",
       "      <td>0.242445</td>\n",
       "      <td>0.300000</td>\n",
       "      <td>0</td>\n",
       "      <td>0</td>\n",
       "      <td>...</td>\n",
       "      <td>0.085765</td>\n",
       "      <td>0.817340</td>\n",
       "      <td>0.096915</td>\n",
       "      <td>0.279591</td>\n",
       "      <td>0.0</td>\n",
       "      <td>0.445349</td>\n",
       "      <td>32</td>\n",
       "      <td>3.0</td>\n",
       "      <td>3</td>\n",
       "      <td>6</td>\n",
       "    </tr>\n",
       "    <tr>\n",
       "      <th>3</th>\n",
       "      <td>-0.085814</td>\n",
       "      <td>-0.748035</td>\n",
       "      <td>-1.507481</td>\n",
       "      <td>0.611501</td>\n",
       "      <td>0.360119</td>\n",
       "      <td>0.180055</td>\n",
       "      <td>0.277793</td>\n",
       "      <td>0.316038</td>\n",
       "      <td>0</td>\n",
       "      <td>0</td>\n",
       "      <td>...</td>\n",
       "      <td>0.108680</td>\n",
       "      <td>0.781135</td>\n",
       "      <td>0.110190</td>\n",
       "      <td>0.290277</td>\n",
       "      <td>0.0</td>\n",
       "      <td>0.256665</td>\n",
       "      <td>55</td>\n",
       "      <td>104.0</td>\n",
       "      <td>29</td>\n",
       "      <td>22</td>\n",
       "    </tr>\n",
       "    <tr>\n",
       "      <th>4</th>\n",
       "      <td>0.595367</td>\n",
       "      <td>1.347730</td>\n",
       "      <td>2.010573</td>\n",
       "      <td>0.700217</td>\n",
       "      <td>0.698661</td>\n",
       "      <td>0.430655</td>\n",
       "      <td>0.554609</td>\n",
       "      <td>0.763889</td>\n",
       "      <td>0</td>\n",
       "      <td>1</td>\n",
       "      <td>...</td>\n",
       "      <td>0.065145</td>\n",
       "      <td>0.860550</td>\n",
       "      <td>0.074320</td>\n",
       "      <td>0.300823</td>\n",
       "      <td>0.0</td>\n",
       "      <td>0.431149</td>\n",
       "      <td>37</td>\n",
       "      <td>36.0</td>\n",
       "      <td>8</td>\n",
       "      <td>8</td>\n",
       "    </tr>\n",
       "    <tr>\n",
       "      <th>5</th>\n",
       "      <td>0.506015</td>\n",
       "      <td>1.186405</td>\n",
       "      <td>1.793259</td>\n",
       "      <td>0.718102</td>\n",
       "      <td>0.731673</td>\n",
       "      <td>0.450803</td>\n",
       "      <td>0.522619</td>\n",
       "      <td>0.772000</td>\n",
       "      <td>0</td>\n",
       "      <td>1</td>\n",
       "      <td>...</td>\n",
       "      <td>0.055340</td>\n",
       "      <td>0.837295</td>\n",
       "      <td>0.107375</td>\n",
       "      <td>0.263269</td>\n",
       "      <td>0.0</td>\n",
       "      <td>0.785494</td>\n",
       "      <td>122</td>\n",
       "      <td>6.0</td>\n",
       "      <td>5</td>\n",
       "      <td>42</td>\n",
       "    </tr>\n",
       "    <tr>\n",
       "      <th>6</th>\n",
       "      <td>0.542000</td>\n",
       "      <td>0.997039</td>\n",
       "      <td>1.886825</td>\n",
       "      <td>0.760590</td>\n",
       "      <td>0.818681</td>\n",
       "      <td>0.385627</td>\n",
       "      <td>0.428575</td>\n",
       "      <td>0.721154</td>\n",
       "      <td>0</td>\n",
       "      <td>1</td>\n",
       "      <td>...</td>\n",
       "      <td>0.061355</td>\n",
       "      <td>0.835380</td>\n",
       "      <td>0.103255</td>\n",
       "      <td>0.275407</td>\n",
       "      <td>0.0</td>\n",
       "      <td>0.609629</td>\n",
       "      <td>29</td>\n",
       "      <td>202.0</td>\n",
       "      <td>31</td>\n",
       "      <td>10</td>\n",
       "    </tr>\n",
       "    <tr>\n",
       "      <th>7</th>\n",
       "      <td>0.477531</td>\n",
       "      <td>0.708345</td>\n",
       "      <td>1.641415</td>\n",
       "      <td>0.710686</td>\n",
       "      <td>0.697704</td>\n",
       "      <td>0.331789</td>\n",
       "      <td>0.482054</td>\n",
       "      <td>0.687500</td>\n",
       "      <td>0</td>\n",
       "      <td>1</td>\n",
       "      <td>...</td>\n",
       "      <td>0.074845</td>\n",
       "      <td>0.850990</td>\n",
       "      <td>0.074175</td>\n",
       "      <td>0.385703</td>\n",
       "      <td>0.0</td>\n",
       "      <td>0.614331</td>\n",
       "      <td>43</td>\n",
       "      <td>6.0</td>\n",
       "      <td>10</td>\n",
       "      <td>7</td>\n",
       "    </tr>\n",
       "    <tr>\n",
       "      <th>8</th>\n",
       "      <td>-0.199407</td>\n",
       "      <td>-1.121910</td>\n",
       "      <td>-1.860943</td>\n",
       "      <td>0.541776</td>\n",
       "      <td>0.155134</td>\n",
       "      <td>0.180074</td>\n",
       "      <td>0.255425</td>\n",
       "      <td>0.350000</td>\n",
       "      <td>0</td>\n",
       "      <td>0</td>\n",
       "      <td>...</td>\n",
       "      <td>0.071145</td>\n",
       "      <td>0.854920</td>\n",
       "      <td>0.073950</td>\n",
       "      <td>0.228707</td>\n",
       "      <td>0.0</td>\n",
       "      <td>0.345586</td>\n",
       "      <td>63</td>\n",
       "      <td>5.0</td>\n",
       "      <td>9</td>\n",
       "      <td>6</td>\n",
       "    </tr>\n",
       "    <tr>\n",
       "      <th>9</th>\n",
       "      <td>-0.135356</td>\n",
       "      <td>-0.803734</td>\n",
       "      <td>-1.289331</td>\n",
       "      <td>0.555324</td>\n",
       "      <td>0.108036</td>\n",
       "      <td>0.133371</td>\n",
       "      <td>0.289695</td>\n",
       "      <td>0.330357</td>\n",
       "      <td>0</td>\n",
       "      <td>0</td>\n",
       "      <td>...</td>\n",
       "      <td>0.076440</td>\n",
       "      <td>0.776510</td>\n",
       "      <td>0.147055</td>\n",
       "      <td>0.193758</td>\n",
       "      <td>0.0</td>\n",
       "      <td>0.309698</td>\n",
       "      <td>69</td>\n",
       "      <td>1804.0</td>\n",
       "      <td>24</td>\n",
       "      <td>0</td>\n",
       "    </tr>\n",
       "  </tbody>\n",
       "</table>\n",
       "<p>10 rows × 42 columns</p>\n",
       "</div>"
      ],
      "text/plain": [
       "   politics_sites2  politics_sites1  politics_followed  lowqual_pr2019_crowd  \\\n",
       "0        -0.231902        -1.168745          -0.080295              0.598883   \n",
       "1         0.405261         1.060905           2.296375              0.774873   \n",
       "2        -0.171067        -0.500076          -2.312730              0.548727   \n",
       "3        -0.085814        -0.748035          -1.507481              0.611501   \n",
       "4         0.595367         1.347730           2.010573              0.700217   \n",
       "5         0.506015         1.186405           1.793259              0.718102   \n",
       "6         0.542000         0.997039           1.886825              0.760590   \n",
       "7         0.477531         0.708345           1.641415              0.710686   \n",
       "8        -0.199407        -1.121910          -1.860943              0.541776   \n",
       "9        -0.135356        -0.803734          -1.289331              0.555324   \n",
       "\n",
       "   lowqual_pr2019_fc  lowqual_afm  lowqual_mbfc  lowqual_lasser2019  \\\n",
       "0           0.279221     0.185315      0.292807            0.350000   \n",
       "1           0.848639     0.614156      0.513147            0.975087   \n",
       "2           0.242347     0.130950      0.242445            0.300000   \n",
       "3           0.360119     0.180055      0.277793            0.316038   \n",
       "4           0.698661     0.430655      0.554609            0.763889   \n",
       "5           0.731673     0.450803      0.522619            0.772000   \n",
       "6           0.818681     0.385627      0.428575            0.721154   \n",
       "7           0.697704     0.331789      0.482054            0.687500   \n",
       "8           0.155134     0.180074      0.255425            0.350000   \n",
       "9           0.108036     0.133371      0.289695            0.330357   \n",
       "\n",
       "   suspended  politics_hashtag  ...  valence_neg  valence_neu  valence_pos  \\\n",
       "0          0                 0  ...     0.109935     0.813230     0.076835   \n",
       "1          0                 1  ...     0.115985     0.793715     0.090250   \n",
       "2          0                 0  ...     0.085765     0.817340     0.096915   \n",
       "3          0                 0  ...     0.108680     0.781135     0.110190   \n",
       "4          0                 1  ...     0.065145     0.860550     0.074320   \n",
       "5          0                 1  ...     0.055340     0.837295     0.107375   \n",
       "6          0                 1  ...     0.061355     0.835380     0.103255   \n",
       "7          0                 1  ...     0.074845     0.850990     0.074175   \n",
       "8          0                 0  ...     0.071145     0.854920     0.073950   \n",
       "9          0                 0  ...     0.076440     0.776510     0.147055   \n",
       "\n",
       "   politics_sites2_ideo_std  hashtag_ideo_std  barbera_std  \\\n",
       "0                  0.274317               0.0     0.909460   \n",
       "1                  0.351800               0.0     0.157056   \n",
       "2                  0.279591               0.0     0.445349   \n",
       "3                  0.290277               0.0     0.256665   \n",
       "4                  0.300823               0.0     0.431149   \n",
       "5                  0.263269               0.0     0.785494   \n",
       "6                  0.275407               0.0     0.609629   \n",
       "7                  0.385703               0.0     0.614331   \n",
       "8                  0.228707               0.0     0.345586   \n",
       "9                  0.193758               0.0     0.309698   \n",
       "\n",
       "   politics_sites1_std  repeated_tweet_count  freq_pr_1h  bad_domain_count  \n",
       "0                   69                  86.0          30                 7  \n",
       "1                  623                 133.0          26                20  \n",
       "2                   32                   3.0           3                 6  \n",
       "3                   55                 104.0          29                22  \n",
       "4                   37                  36.0           8                 8  \n",
       "5                  122                   6.0           5                42  \n",
       "6                   29                 202.0          31                10  \n",
       "7                   43                   6.0          10                 7  \n",
       "8                   63                   5.0           9                 6  \n",
       "9                   69                1804.0          24                 0  \n",
       "\n",
       "[10 rows x 42 columns]"
      ]
     },
     "execution_count": 6,
     "metadata": {},
     "output_type": "execute_result"
    }
   ],
   "source": [
    "mosleh_and_al_data.head(10)"
   ]
  },
  {
   "cell_type": "code",
   "execution_count": 7,
   "metadata": {
    "dotnet_interactive": {
     "language": "csharp"
    },
    "polyglot_notebook": {
     "kernelName": "csharp"
    }
   },
   "outputs": [
    {
     "data": {
      "text/plain": [
       "(7286, 42)"
      ]
     },
     "execution_count": 7,
     "metadata": {},
     "output_type": "execute_result"
    }
   ],
   "source": [
    "mosleh_and_al_data.shape"
   ]
  },
  {
   "cell_type": "markdown",
   "metadata": {},
   "source": [
    "We can see that there are **42 columns**. Let's see their names:"
   ]
  },
  {
   "cell_type": "code",
   "execution_count": 8,
   "metadata": {
    "dotnet_interactive": {
     "language": "csharp"
    },
    "polyglot_notebook": {
     "kernelName": "csharp"
    }
   },
   "outputs": [
    {
     "name": "stdout",
     "output_type": "stream",
     "text": [
      "['politics_sites2', 'politics_sites1', 'politics_followed', 'lowqual_pr2019_crowd', 'lowqual_pr2019_fc', 'lowqual_afm', 'lowqual_mbfc']\n",
      "['lowqual_lasser2019', 'suspended', 'politics_hashtag', 'lowqual_pr2019_crowdrep', 'num_followers', 'num_friends', 'tweets_in_2wk']\n",
      "['botsentinel_score', 'rewire_abuse', 'rewire_hate', 'rewire_profanity', 'rewire_violent', 'rewire_sexually_explicit', 'jigsaw_toxicity']\n",
      "['jigsaw_severe_toxicity', 'jigsaw_idenity_attack', 'jigsaw_insult', 'jigsaw_profanity', 'jigsaw_threat', 'rocklage_valence_std', 'rocklage_extremity_std']\n",
      "['rocklage_emotionality_std', 'rocklage_certainty_std', 'liwc_political', 'moral_outrage', 'valence_neg', 'valence_neu', 'valence_pos']\n",
      "['politics_sites2_ideo_std', 'hashtag_ideo_std', 'barbera_std', 'politics_sites1_std', 'repeated_tweet_count', 'freq_pr_1h', 'bad_domain_count']\n"
     ]
    }
   ],
   "source": [
    "columns = list(mosleh_and_al_data.columns)\n",
    "\n",
    "for i in range(0, len(columns), 7):\n",
    "    print(columns[i:i + 7])"
   ]
  },
  {
   "cell_type": "markdown",
   "metadata": {},
   "source": [
    "Interesting! Now we have read all of our data."
   ]
  },
  {
   "cell_type": "markdown",
   "metadata": {},
   "source": [
    "## Twitter Suspensions after the 2020 Election\n",
    "\n",
    "We will show, using crosstabulation, that accounts that shared `#Trump2020` during the election were about 4.4 times more likely to be subsequently suspended than the accounts that shared `#VoteBidenHarris2020` (relevant columns: `politics_hashtag` and `suspended`). Then we will perform a $\\chi^2$ test on the contingency table and explain the results.  \n",
    "\n",
    "**about the columns:**  \n",
    "\n",
    "* `politics_hashtag`  \n",
    "This column identifies the political hashtag shared by the user during the 2020 U.S. presidential election. \n",
    "* `suspended`  \n",
    "This column indicates whether the user's Twitter account was suspended as of the follow-up date (July 2021).\n",
    "\n",
    "Let's check the datatypes of the values of the two columns we're interested in..."
   ]
  },
  {
   "cell_type": "code",
   "execution_count": 9,
   "metadata": {
    "dotnet_interactive": {
     "language": "csharp"
    },
    "polyglot_notebook": {
     "kernelName": "csharp"
    }
   },
   "outputs": [
    {
     "name": "stdout",
     "output_type": "stream",
     "text": [
      "Politics Hashtag datatype: int64\n",
      "Suspended datatype: int64\n"
     ]
    }
   ],
   "source": [
    "print(f\"Politics Hashtag datatype: {mosleh_and_al_data.politics_hashtag.dtype}\\nSuspended datatype: {mosleh_and_al_data.suspended.dtype}\")"
   ]
  },
  {
   "cell_type": "markdown",
   "metadata": {},
   "source": [
    "Let's see how many of our `politics_hashtag` values are equal to 0 and how many are equal to 1"
   ]
  },
  {
   "cell_type": "code",
   "execution_count": 10,
   "metadata": {
    "dotnet_interactive": {
     "language": "csharp"
    },
    "polyglot_notebook": {
     "kernelName": "csharp"
    }
   },
   "outputs": [
    {
     "name": "stdout",
     "output_type": "stream",
     "text": [
      "Number of Ones: 3422\n",
      "Number of Zeros: 3864\n"
     ]
    }
   ],
   "source": [
    "print(f\"Number of Ones: {len(mosleh_and_al_data.loc[mosleh_and_al_data['politics_hashtag']==1, 'politics_hashtag'])}\")\n",
    "print(f\"Number of Zeros: {len(mosleh_and_al_data.loc[mosleh_and_al_data['politics_hashtag']==0, 'politics_hashtag'])}\")"
   ]
  },
  {
   "cell_type": "markdown",
   "metadata": {},
   "source": [
    "We can see that they are almost equally devided. The question is:  \n",
    "\n",
    "*does `politics_hashtag = 0` represent that the hashtag shared is `#Trump2020` and `politics_hashtag = 1` means that the hashtag shared is `#VoteBidenHarris2020`, or is it the opposite?*   \n",
    " \n",
    "Similarly the following qestion arises:  \n",
    "\n",
    "*does `suspended = 0` represent that the user got suspended and `suspended = 0` means that the didn't get suspended, or is it the opposite?*   \n",
    "  \n",
    "It is stated on the researched linked above that:\n",
    "> only 4.5% of the users who shared Biden hashtags had been suspended as of July 2021,  \n",
    "> 19.6% of the users who shared Trump hashtags had been suspended  \n",
    "  \n",
    "So if we find the combinations of on both columns that resonate with the percentages this finding we will understand which is which."
   ]
  },
  {
   "cell_type": "code",
   "execution_count": 11,
   "metadata": {
    "dotnet_interactive": {
     "language": "csharp"
    },
    "polyglot_notebook": {
     "kernelName": "csharp"
    }
   },
   "outputs": [
    {
     "name": "stdout",
     "output_type": "stream",
     "text": [
      "percentage of suspended=0 for politics_hashtag=0: 96.32505175983437\n",
      "percentage of suspended=1 for politics_hashtag=0: 3.674948240165631\n",
      "percentage of suspended=0 for politics_hashtag=1: 81.41437755698422\n",
      "percentage of suspended=1 for politics_hashtag=1: 18.58562244301578\n"
     ]
    }
   ],
   "source": [
    "counts_ph, counts_s  = mosleh_and_al_data['politics_hashtag'].value_counts(), mosleh_and_al_data['suspended'].value_counts()\n",
    "ph_ones, ph_zeros, s_ones, s_zeros = counts_ph[1], counts_ph[0], counts_s[1], counts_s[0]\n",
    "\n",
    "print(f\"percentage of suspended=0 for politics_hashtag=0: {((len(mosleh_and_al_data.loc[(mosleh_and_al_data['politics_hashtag'] == 0) & (mosleh_and_al_data['suspended'] == 0), 'politics_hashtag']))/(len(mosleh_and_al_data.loc[mosleh_and_al_data['politics_hashtag']==0, 'politics_hashtag'])))*100}\")\n",
    "print(f\"percentage of suspended=1 for politics_hashtag=0: {((len(mosleh_and_al_data.loc[(mosleh_and_al_data['politics_hashtag'] == 0) & (mosleh_and_al_data['suspended'] == 1), 'politics_hashtag']))/(len(mosleh_and_al_data.loc[mosleh_and_al_data['politics_hashtag']==0, 'politics_hashtag'])))*100}\")\n",
    "print(f\"percentage of suspended=0 for politics_hashtag=1: {((len(mosleh_and_al_data.loc[(mosleh_and_al_data['politics_hashtag'] == 1) & (mosleh_and_al_data['suspended'] == 0), 'politics_hashtag']))/(len(mosleh_and_al_data.loc[mosleh_and_al_data['politics_hashtag']==1, 'politics_hashtag'])))*100}\")\n",
    "print(f\"percentage of suspended=1 for politics_hashtag=1: {((len(mosleh_and_al_data.loc[(mosleh_and_al_data['politics_hashtag'] == 1) & (mosleh_and_al_data['suspended'] == 1), 'politics_hashtag']))/(len(mosleh_and_al_data.loc[mosleh_and_al_data['politics_hashtag']==1, 'politics_hashtag'])))*100}\")"
   ]
  },
  {
   "cell_type": "markdown",
   "metadata": {},
   "source": [
    "We can see that the columns seem to behave accordingly to the statement of the report. So it is clear that:  \n",
    "* When `politics_hashtag` = 0, the shared hashtag was `#VoteBidenHarris2020`\n",
    "* When `politics_hashtag` = 1,  the shared hashtag was  `#Trump2020`\n",
    "* When `suspended` = 1, the user was suspended\n",
    "* When `suspended` = 0, the user was not suspended  \n",
    "  \n",
    "We will prove using crosstabulation, that accounts that shared `#Trump2020` during the election were about 4.4 times more likely to be subsequently suspended than the accounts that shared `#VoteBidenHarris2020`\n",
    "\n",
    "### Step 1: Creation of Contingency Table"
   ]
  },
  {
   "cell_type": "code",
   "execution_count": 12,
   "metadata": {
    "dotnet_interactive": {
     "language": "csharp"
    },
    "polyglot_notebook": {
     "kernelName": "csharp"
    }
   },
   "outputs": [
    {
     "name": "stdout",
     "output_type": "stream",
     "text": [
      "Suspended:\n",
      "\t0= False, 1=True\n",
      "Hashtag:\n",
      "\t0 = #VoteBidenHarris2020, 1 = #Trump2020\n"
     ]
    },
    {
     "data": {
      "text/html": [
       "<style type=\"text/css\">\n",
       "#T_cd972 thead th {\n",
       "  background-color: lightblue;\n",
       "  font-weight: bold;\n",
       "  text-align: center;\n",
       "}\n",
       "#T_cd972 tbody th {\n",
       "  background-color: lightblue;\n",
       "  font-weight: bold;\n",
       "  text-align: center;\n",
       "}\n",
       "</style>\n",
       "<table id=\"T_cd972\">\n",
       "  <caption>Suspensions by Political Hashtag</caption>\n",
       "  <thead>\n",
       "    <tr>\n",
       "      <th class=\"index_name level0\" >suspended</th>\n",
       "      <th id=\"T_cd972_level0_col0\" class=\"col_heading level0 col0\" >0</th>\n",
       "      <th id=\"T_cd972_level0_col1\" class=\"col_heading level0 col1\" >1</th>\n",
       "      <th id=\"T_cd972_level0_col2\" class=\"col_heading level0 col2\" >Total</th>\n",
       "    </tr>\n",
       "    <tr>\n",
       "      <th class=\"index_name level0\" >politics_hashtag</th>\n",
       "      <th class=\"blank col0\" >&nbsp;</th>\n",
       "      <th class=\"blank col1\" >&nbsp;</th>\n",
       "      <th class=\"blank col2\" >&nbsp;</th>\n",
       "    </tr>\n",
       "  </thead>\n",
       "  <tbody>\n",
       "    <tr>\n",
       "      <th id=\"T_cd972_level0_row0\" class=\"row_heading level0 row0\" >0</th>\n",
       "      <td id=\"T_cd972_row0_col0\" class=\"data row0 col0\" >3722</td>\n",
       "      <td id=\"T_cd972_row0_col1\" class=\"data row0 col1\" >142</td>\n",
       "      <td id=\"T_cd972_row0_col2\" class=\"data row0 col2\" >3864</td>\n",
       "    </tr>\n",
       "    <tr>\n",
       "      <th id=\"T_cd972_level0_row1\" class=\"row_heading level0 row1\" >1</th>\n",
       "      <td id=\"T_cd972_row1_col0\" class=\"data row1 col0\" >2786</td>\n",
       "      <td id=\"T_cd972_row1_col1\" class=\"data row1 col1\" >636</td>\n",
       "      <td id=\"T_cd972_row1_col2\" class=\"data row1 col2\" >3422</td>\n",
       "    </tr>\n",
       "    <tr>\n",
       "      <th id=\"T_cd972_level0_row2\" class=\"row_heading level0 row2\" >Total</th>\n",
       "      <td id=\"T_cd972_row2_col0\" class=\"data row2 col0\" >6508</td>\n",
       "      <td id=\"T_cd972_row2_col1\" class=\"data row2 col1\" >778</td>\n",
       "      <td id=\"T_cd972_row2_col2\" class=\"data row2 col2\" >7286</td>\n",
       "    </tr>\n",
       "  </tbody>\n",
       "</table>\n"
      ],
      "text/plain": [
       "<pandas.io.formats.style.Styler at 0x1f5f7a289a0>"
      ]
     },
     "execution_count": 12,
     "metadata": {},
     "output_type": "execute_result"
    }
   ],
   "source": [
    "crosstab = pd.crosstab(mosleh_and_al_data['politics_hashtag'],\n",
    "                        mosleh_and_al_data['suspended'],\n",
    "                        margins=True,\n",
    "                        margins_name='Total')\n",
    "\n",
    "styled_crosstab = (\n",
    "    crosstab.style\n",
    "    .set_table_styles([\n",
    "        {\"selector\": \"thead th\", \"props\": [(\"background-color\", \"lightblue\"), (\"font-weight\", \"bold\"), (\"text-align\", \"center\")]},\n",
    "        {\"selector\": \"tbody th\", \"props\": [(\"background-color\", \"lightblue\"), (\"font-weight\", \"bold\"), (\"text-align\", \"center\")]},\n",
    "    ])\n",
    "    .set_caption(\"Suspensions by Political Hashtag\")\n",
    ")\n",
    "print(\"Suspended:\\n\\t0= False, 1=True\\nHashtag:\\n\\t0 = #VoteBidenHarris2020, 1 = #Trump2020\")\n",
    "styled_crosstab"
   ]
  },
  {
   "cell_type": "markdown",
   "metadata": {},
   "source": [
    "### Step 2: Proving the Likelihood of Suspension\n",
    "\n",
    "We will calculate suspension rates for `#Trump2020` and `#VoteBidenHarris2020` by dividing suspended accounts by total accounts for each hashtag, then compute the ratio to show how much more likely `#Trump2020` accounts were to be suspended."
   ]
  },
  {
   "cell_type": "code",
   "execution_count": 13,
   "metadata": {
    "dotnet_interactive": {
     "language": "csharp"
    },
    "polyglot_notebook": {
     "kernelName": "csharp"
    }
   },
   "outputs": [
    {
     "name": "stdout",
     "output_type": "stream",
     "text": [
      "Suspension rate for #Trump2020: 0.1859\n",
      "Suspension rate for #VoteBidenHarris2020: 0.0367\n",
      "Accounts sharing #Trump2020 were about 5.1 times more likely to be suspended.\n"
     ]
    }
   ],
   "source": [
    "trump_s = crosstab.loc[1, 1]  \n",
    "trump_total = crosstab.loc[1, 'Total']  \n",
    "\n",
    "bidenharris_s = crosstab.loc[0, 1]  \n",
    "biden_total = crosstab.loc[0, 'Total']  \n",
    "\n",
    "trump_s_rate = trump_s / trump_total\n",
    "biden_s_rate = bidenharris_s / biden_total\n",
    "\n",
    "suspension_ratio = trump_s_rate / biden_s_rate\n",
    "\n",
    "print(f\"Suspension rate for #Trump2020: {trump_s_rate:.4f}\")\n",
    "print(f\"Suspension rate for #VoteBidenHarris2020: {biden_s_rate:.4f}\")\n",
    "print(f\"Accounts sharing #Trump2020 were about {suspension_ratio:.1f} times more likely to be suspended.\")"
   ]
  },
  {
   "cell_type": "markdown",
   "metadata": {},
   "source": [
    "### Step 3:     Perform a $\\chi^2$ test on the contingency table\n",
    "We use scipy.stats for statistical computations, and chi2_contingency specifically performs a Chi-square test to evaluate if there is a significant association between two categorical variables.\n",
    "\n",
    "**What is a Chi-Square Test:**  \n",
    "We compare the expected behaviour of our data to the actual data. That way we can see if the variation in our data is due to chance or if it is due to one of our variables (here the hashtag shared).\n",
    "\n",
    "**What is the Chi-Square Test Formula:**   \n",
    "   \n",
    "$$ \\chi^2 = Σ(\\frac{Oᵢ - Eᵢ}{Eᵢ}) $$\n",
    "\n",
    "\n",
    "- **\\($\\chi^2$)**: Chi-square statistic.\n",
    "- **\\(O_i\\)**: Observed frequency in the contingency table.\n",
    "- **\\(E_i\\)**: Expected frequency under the assumption of independence.\n",
    "\n",
    "**What are the Degrees of Freedom in the Chi-Square Test**\n",
    "\n",
    "The degrees of freedom (DoF) for a Chi-square test are calculated as:\n",
    "\n",
    "$\\text{DoF} = (\\text{rows} - 1) \\times (\\text{columns} - 1)$\n",
    "\n",
    "In our contigency table:\n",
    "- **Rows**: 2 (politics_hashtag: 0, 1)\n",
    "- **Columns**: 2 (suspended: 0, 1)  \n",
    "  \n",
    "so we have:\n",
    "\n",
    "$\\text{DoF} = (2 - 1) \\times (2 - 1) = 1$\n",
    "\n",
    "**What is the p-value and how does it relate to the Chi-Square Test?**\n",
    "\n",
    "The **p-value** is the probability of obtaining a Chi-square statistic at least as extreme as the one observed, assuming that the null hypothesis is true (i.e., no association between the variables).  \n",
    "A **low p-value** (typically < 0.05) suggests that the observed data is unlikely under the null hypothesis, leading us to reject it and conclude that there is a significant association between the variables. \n",
    "\n",
    "\n"
   ]
  },
  {
   "cell_type": "code",
   "execution_count": 14,
   "metadata": {
    "dotnet_interactive": {
     "language": "csharp"
    },
    "polyglot_notebook": {
     "kernelName": "csharp"
    }
   },
   "outputs": [
    {
     "name": "stdout",
     "output_type": "stream",
     "text": [
      "Chi-Square Test Results\n",
      "------------------------\n",
      "Chi-Square Statistic: 421.4706\n",
      "P-Value: 1.1678e-93\n",
      "Degrees of Freedom: 1\n",
      "\n",
      "Expected Frequencies:\n",
      "suspended                   0           1\n",
      "politics_hashtag                         \n",
      "0                 3451.401592  412.598408\n",
      "1                 3056.598408  365.401592\n",
      "\n",
      "The result is statistically significant (p < 0.05).\n",
      "There is a significant association between the hashtag used and the likelihood of account suspension.\n"
     ]
    }
   ],
   "source": [
    "from scipy.stats import chi2_contingency\n",
    "crosstab = crosstab.iloc[:-1, :-1]  # we remove the \"Total\" row and column\n",
    "\n",
    "chi2, probability, degrees_of_freedom, expected = chi2_contingency(crosstab)\n",
    "\n",
    "print(\"Chi-Square Test Results\")\n",
    "print(\"------------------------\")\n",
    "print(f\"Chi-Square Statistic: {chi2:.4f}\")\n",
    "print(f\"P-Value: {probability:.4e}\")\n",
    "print(f\"Degrees of Freedom: {degrees_of_freedom}\")\n",
    "print(\"\\nExpected Frequencies:\")\n",
    "print(pd.DataFrame(expected, index=crosstab.index, columns=crosstab.columns))\n",
    "\n",
    "# Interpretation\n",
    "if probability < 0.05:\n",
    "    print(\"\\nThe result is statistically significant (p < 0.05).\")\n",
    "    print(\"There is a significant association between the hashtag used and the likelihood of account suspension.\")\n",
    "else:\n",
    "    print(\"\\nThe result is not statistically significant (p >= 0.05).\")\n",
    "    print(\"There is no significant association between the hashtag used and the likelihood of account suspension.\")"
   ]
  },
  {
   "cell_type": "markdown",
   "metadata": {},
   "source": [
    "Indeed, the p-value we got is **much, much smaller than 0.05**. The output shows: `P-Value: 1.1678e-93` which means:      \n",
    "   \n",
    "\n",
    "`1.1678 × 10^-93 = 0.000…00011678`,     \n",
    "\n",
    "with **92 zeros after the decimal point** before the 1.1678.   \n",
    "\n",
    "Clearly: `1.1678 × 10^-93 << 5 × 10^-2`.\n",
    "\n",
    "So yes, the p-value is **extremely small**, much smaller than 0.05."
   ]
  },
  {
   "cell_type": "markdown",
   "metadata": {},
   "source": [
    "## Distributions of Relative Frequency of Low Quality\n",
    "\n",
    "We'll plot the distributions of low-quality sharing as determined by eight professional fact-checkers (column `lowqual_pr2019_fc`), grouped by `politics_hashtag`. The $x$-axis will be standardized using z-scores. \n",
    "\n",
    "**General Explanation of Z Score:**  \n",
    "The z score of a value, here of a value of low-quality sharing as determined by eight professional fact-checkers, means *\"How many standard derivations, is this value, away from the mean, for that variable\"*.   \n",
    "  \n",
    "We have 3 cases:  \n",
    "* z-score = 0 : value exact same as the mean\n",
    "* z-score < 0 : value below the mean\n",
    "* z-score > 0 : value above the mean\n",
    "  \n",
    "So basically the formula is:\n",
    "$z = \\frac{x - \\bar{x}}{s}$\n",
    "  \n",
    "We will make a copy of our dataframe with the columns of our interest and we'll add a column with the standardized z scores to our copied dataframe.  \n",
    "Then we will make our distributions plot.\n"
   ]
  },
  {
   "cell_type": "code",
   "execution_count": 15,
   "metadata": {
    "dotnet_interactive": {
     "language": "csharp"
    },
    "polyglot_notebook": {
     "kernelName": "csharp"
    }
   },
   "outputs": [
    {
     "data": {
      "image/png": "[encoded data removed]",
      "text/plain": [
       "<Figure size 1161.12x500 with 1 Axes>"
      ]
     },
     "metadata": {},
     "output_type": "display_data"
    }
   ],
   "source": [
    "from scipy.stats import zscore\n",
    "\n",
    "# making a new data frame only with the two columns that are of interest\n",
    "distribution = mosleh_and_al_data[['politics_hashtag', 'lowqual_pr2019_fc']].copy()\n",
    "distribution['politics_hashtag'] = distribution['politics_hashtag'].map({1: \"Trump hashtags\", 0: \"Biden hashtags\"})\n",
    "\n",
    "# adding a column that will contain the standardized z scores\n",
    "distribution['lowqual_pr2019_fc_z'] = (distribution['lowqual_pr2019_fc'] - distribution['lowqual_pr2019_fc'].mean()) / distribution['lowqual_pr2019_fc'].std()\n",
    "\n",
    "plot = sns.displot(\n",
    "    x=\"lowqual_pr2019_fc_z\", \n",
    "    data=distribution, \n",
    "    hue=\"politics_hashtag\",  # groups by 'politics_hashtag' for separate curves\n",
    "    kind=\"kde\", # shows a smooth, continuous curve representing the probability density of the data\n",
    "    fill=True,  # fills the area under the curves\n",
    "    aspect=2\n",
    ")\n",
    "\n",
    "plot._legend.set_title(\"People who shared\")\n",
    "plt.title(\"Distributions of Relative Frequency of Low-Quality Sharing\")\n",
    "plt.xlabel(\"Low-Quality News Sharing (Z-scores)\")\n",
    "plt.ylabel(\"Frequency\")\n",
    "\n",
    "plt.show()"
   ]
  },
  {
   "cell_type": "markdown",
   "metadata": {},
   "source": [
    "Having done, that, we will proceed to do the same with low-quality sharing as determined by crowdsourcing from 971 participants from the USA (column `lowqual_pr2019_crowd`).  \n",
    "\n",
    "We will use the same logic and work on the same copy of our dataframe."
   ]
  },
  {
   "cell_type": "code",
   "execution_count": 16,
   "metadata": {
    "dotnet_interactive": {
     "language": "csharp"
    },
    "polyglot_notebook": {
     "kernelName": "csharp"
    }
   },
   "outputs": [
    {
     "data": {
      "image/png": "[encoded data removed]",
      "text/plain": [
       "<Figure size 1161.12x500 with 1 Axes>"
      ]
     },
     "metadata": {},
     "output_type": "display_data"
    }
   ],
   "source": [
    "distribution['lowqual_pr2019_crowd'] = mosleh_and_al_data['lowqual_pr2019_crowd'].copy()\n",
    "distribution['lowqual_pr2019_crowd'] = (distribution['lowqual_pr2019_crowd'] - distribution['lowqual_pr2019_crowd'].mean()) / distribution['lowqual_pr2019_crowd'].std()\n",
    "\n",
    "plot2 = sns.displot(\n",
    "    x=\"lowqual_pr2019_crowd\", \n",
    "    data=distribution, \n",
    "    hue=\"politics_hashtag\",  # groups by 'politics_hashtag' for separate curves\n",
    "    kind=\"kde\", # shows a smooth, continuous curve representing the probability density of the data\n",
    "    fill=True,  # fills the area under the curves\n",
    "    aspect=2\n",
    ")\n",
    "\n",
    "plot._legend.set_title(\"People who shared\")\n",
    "plt.title(\"Distributions of Relative Frequency of Low-Quality Sharing\")\n",
    "plt.xlabel(\"Low-Quality News Sharing (Z-scores)\")\n",
    "plt.ylabel(\"Frequency\")\n",
    "\n",
    "plt.show()\n"
   ]
  },
  {
   "cell_type": "markdown",
   "metadata": {},
   "source": [
    "## Low-quality News Sharing on Twitter\n",
    "\n",
    "We will proceed to examine low-quality news sharing on Twitter on a more quantitave manner, using the t-test. In particular, we will use the t-test based on groups of users depending on their `politics_hashtag` and various assessments of low-quality news sharing. We will quantify the effect size of the t-test using Cohen's $d$ and Hedges' $g$."
   ]
  },
  {
   "cell_type": "markdown",
   "metadata": {},
   "source": [
    "Cohen's $d$ is defined as the difference between two means divided by a standard deviation for the data, i.e.:\n",
    "\n",
    "$$ d = \\frac{\\bar{x}_{1} - \\bar{x}_{2}}{s} $$\n",
    "\n",
    "$s$, the pooled standard deviation for two independent samples is defined as:\n",
    "\n",
    "$$ s=\\sqrt{\\frac{(n_{1}-1)s_{1}^{2}+(n_{2}-1)s_{2}^{2}}{n_{1}+n_{2}-2}} $$\n",
    "\n",
    "where $n_1$, $n_2$ is the size of each sample and the variance of $s_1$ is defined as:\n",
    "\n",
    "$$ s_{1}^{2}=\\frac{1}{n_{1}-1} \\sum _{i=1}^{n_{1}}(x_{1,i}-{\\bar {x}}_{1})^{2} $$\n",
    "\n",
    "with the variance of $s_2$ defined similarly. The values of Cohen's $d$ can be interpreted as follows:\n",
    "\n",
    "| Effect Size | $d$  |\n",
    "|-------------|------|\n",
    "| Very small  | 0.01 |\n",
    "| Small\t      | 0.20 |\n",
    "| Medium\t  | 0.50 |\n",
    "| Large\t      | 0.80 |\n",
    "| Very large  | 1.20 |\n",
    "| Huge        | 2.00 |\n",
    "\n",
    "Hedges' $g$ corrects Cohen's $d$ for bias in small sample sizes and is defined as:\n",
    "\n",
    "$$ 1 - \\bigg(\\frac{3}{4  (n_1 + n_2) - 9)}\\bigg)d $$"
   ]
  },
  {
   "cell_type": "markdown",
   "metadata": {},
   "source": [
    "We will perform a t-test statistic and report Cohen's $d$ and Hedges' $g$ for the following, grouped by `politics_hashtag`.\n",
    "\n",
    "* `lowqual_pr2019_fc` (sites rated by fact-checkers)\n",
    "* `lowqual_afm` (sites rated by Ad Fontes media, <https://adfontesmedia.com/>)\n",
    "* `lowqual_mbfc` (sites rated by Media Bias/Fact Check, <https://mediabiasfactcheck.com/>)\n",
    "* `lowqual_lasser2019` (sites rated by Laser et al., https://doi.org/10.1093/pnasnexus/pgac186)\n",
    "* `lowqual_pr2019_crowd` (sites rated by crowdsourcing 971 participants from the USA)\n",
    "* `lowqual_pr2019_crowdrep` (sites rated by the republicans among the 971 participants of above)"
   ]
  },
  {
   "cell_type": "markdown",
   "metadata": {},
   "source": [
    "Firstly we will create a few functions to help us later on.  \n",
    "We won't need to create a function for standard derivation because the .std() method of the pandas library calculates it with the same formula.  \n",
    "We will use an independent t-test rather than a paired t-test because we're comparing the means of two independent groups of users depending on their `politics_hashtag` and various assessments of low-quality news sharing.   \n",
    "  \n",
    "The formula for independent **T-Testing** is the following:  \n",
    "$$\n",
    "t = \\frac{\\bar{x}_1 - \\bar{x}_2}{\\sqrt{\\frac{s_1^2}{n_1} + \\frac{s_2^2}{n_2}}}\n",
    "$$ \n"
   ]
  },
  {
   "cell_type": "code",
   "execution_count": 17,
   "metadata": {
    "dotnet_interactive": {
     "language": "csharp"
    },
    "polyglot_notebook": {
     "kernelName": "csharp"
    }
   },
   "outputs": [],
   "source": [
    "from scipy import stats\n",
    "\n",
    "# function that calculates the pooled standard deviation\n",
    "def pooled_sd(n1, s1, n2, s2):\n",
    "    return np.sqrt(((n1 - 1) * s1**2 + (n2 - 1) * s2**2) / (n1 + n2 - 2))\n",
    "\n",
    "# function that calculates Cohen's d\n",
    "def cohen_d(mean1, mean2, sd_pooled):\n",
    "    return (mean1 - mean2) / sd_pooled\n",
    "\n",
    "# function that calculate Hedges' g\n",
    "def hedges_g(d, n1, n2):\n",
    "    return d * (1 - (3 / (4 * (n1 + n2) - 9)))\n",
    "\n",
    "def independent_t_stat(mean1, mean2, sd1, sd2, n1, n2):\n",
    "    return (mean1 - mean2) / (np.sqrt((sd1**2 / n1) + (sd2**2 / n2)))\n",
    "\n",
    "\n",
    "def analyze_low_quality(df, column):\n",
    "    group1 = mosleh_and_al_data[mosleh_and_al_data['politics_hashtag'] == 1][column]\n",
    "    group2 = mosleh_and_al_data[mosleh_and_al_data['politics_hashtag'] == 0][column]\n",
    "    \n",
    "    # means, sample sizes and sds calculation\n",
    "    mean1 = group1.mean()\n",
    "    mean2 = group2.mean()\n",
    "    sd1 = group1.std()\n",
    "    sd2 = group2.std()\n",
    "    n1 = group1.shape[0]\n",
    "    n2 = group2.shape[0]\n",
    "\n",
    "    # performing the t-test\n",
    "    t_stat = independent_t_stat(mean1, mean2, sd1, sd2, n1, n2)\n",
    "\n",
    "    # degrees of freedom for the independent t-test\n",
    "    df = n1 + n2 - 2\n",
    "    \n",
    "    # pooled standard deviation\n",
    "    sd_pooled = pooled_sd(n1, sd1, n2, sd2)\n",
    "\n",
    "    # Cohen's d\n",
    "    d = cohen_d(mean1, mean2, sd_pooled)\n",
    "\n",
    "    # Hedges' g\n",
    "    g = hedges_g(d, n1, n2)\n",
    "\n",
    "    return {\n",
    "        't_stat': t_stat,\n",
    "        'cohen_d': d,\n",
    "        'hedges_g': g\n",
    "    }"
   ]
  },
  {
   "cell_type": "markdown",
   "metadata": {},
   "source": [
    "Now that we have our functions defined, we will perform the analysis for each of the stated above columns."
   ]
  },
  {
   "cell_type": "code",
   "execution_count": 18,
   "metadata": {
    "dotnet_interactive": {
     "language": "csharp"
    },
    "polyglot_notebook": {
     "kernelName": "csharp"
    }
   },
   "outputs": [
    {
     "data": {
      "text/html": [
       "<div>\n",
       "<style scoped>\n",
       "    .dataframe tbody tr th:only-of-type {\n",
       "        vertical-align: middle;\n",
       "    }\n",
       "\n",
       "    .dataframe tbody tr th {\n",
       "        vertical-align: top;\n",
       "    }\n",
       "\n",
       "    .dataframe thead th {\n",
       "        text-align: right;\n",
       "    }\n",
       "</style>\n",
       "<table border=\"1\" class=\"dataframe\">\n",
       "  <thead>\n",
       "    <tr style=\"text-align: right;\">\n",
       "      <th></th>\n",
       "      <th>t_stat</th>\n",
       "      <th>cohen_d</th>\n",
       "      <th>hedges_g</th>\n",
       "    </tr>\n",
       "  </thead>\n",
       "  <tbody>\n",
       "    <tr>\n",
       "      <th>lowqual_pr2019_fc</th>\n",
       "      <td>130.915695</td>\n",
       "      <td>3.057153</td>\n",
       "      <td>3.056838</td>\n",
       "    </tr>\n",
       "    <tr>\n",
       "      <th>lowqual_afm</th>\n",
       "      <td>109.531879</td>\n",
       "      <td>2.609463</td>\n",
       "      <td>2.609194</td>\n",
       "    </tr>\n",
       "    <tr>\n",
       "      <th>lowqual_mbfc</th>\n",
       "      <td>100.681486</td>\n",
       "      <td>2.344375</td>\n",
       "      <td>2.344134</td>\n",
       "    </tr>\n",
       "    <tr>\n",
       "      <th>lowqual_lasser2019</th>\n",
       "      <td>108.617273</td>\n",
       "      <td>2.618769</td>\n",
       "      <td>2.618499</td>\n",
       "    </tr>\n",
       "    <tr>\n",
       "      <th>lowqual_pr2019_crowd</th>\n",
       "      <td>108.776615</td>\n",
       "      <td>2.551942</td>\n",
       "      <td>2.551679</td>\n",
       "    </tr>\n",
       "    <tr>\n",
       "      <th>lowqual_pr2019_crowdrep</th>\n",
       "      <td>61.278247</td>\n",
       "      <td>1.437226</td>\n",
       "      <td>1.437078</td>\n",
       "    </tr>\n",
       "  </tbody>\n",
       "</table>\n",
       "</div>"
      ],
      "text/plain": [
       "                             t_stat   cohen_d  hedges_g\n",
       "lowqual_pr2019_fc        130.915695  3.057153  3.056838\n",
       "lowqual_afm              109.531879  2.609463  2.609194\n",
       "lowqual_mbfc             100.681486  2.344375  2.344134\n",
       "lowqual_lasser2019       108.617273  2.618769  2.618499\n",
       "lowqual_pr2019_crowd     108.776615  2.551942  2.551679\n",
       "lowqual_pr2019_crowdrep   61.278247  1.437226  1.437078"
      ]
     },
     "execution_count": 18,
     "metadata": {},
     "output_type": "execute_result"
    }
   ],
   "source": [
    "columns_to_analyze = [\n",
    "    'lowqual_pr2019_fc', 'lowqual_afm', 'lowqual_mbfc',\n",
    "    'lowqual_lasser2019', 'lowqual_pr2019_crowd', 'lowqual_pr2019_crowdrep'\n",
    "]\n",
    "\n",
    "results = {}\n",
    "for column in columns_to_analyze:\n",
    "    results[column] = analyze_low_quality(mosleh_and_al_data, column)\n",
    "\n",
    "results_df = pd.DataFrame(results).T\n",
    "results_df"
   ]
  },
  {
   "cell_type": "markdown",
   "metadata": {},
   "source": [
    "#### Analysis of the results\n",
    "\n",
    "**t_stat**  \n",
    "    \n",
    "For each column, the T Test (t_stat variable here), tells us whether there is a statistically significant difference between the means of two groups.  \n",
    "For all of our columns, the t-statistic values are extremely high (e.g., 119.60 for `lowqual_pr2019_fc` or 61.27 for `lowqual_pr2019_crowdrep`).  \n",
    "A **high t-statistic** suggests that **the difference in means between the two groups is very large** relative to what we would expect if there were no real difference between the groups.  \n",
    "The larger the t-statistic (in absolute value), the less likely it is that the observed difference in means is due to random chance.  \n",
    "These results strongly suggest that **the groups are statistically significantly different in all columns**.\n",
    "  \n",
    "**Cohen's d and Hedges' g** \n",
    "   \n",
    "We can see that in most cases the two variables are fairly similar.  \n",
    "The effect sizes of Cohen's d and Hedges' g indicate the magnitude of the difference between the two groups' means, with larger values suggesting a stronger or more meaningful difference in low-quality news sharing behavior.  \n",
    "Using the table of interpretations of the different effect size values stated above we can see that we notice two categories of effect sizes:  \n",
    "*  Very large  \n",
    "Column `lowqual_pr2019_crowdrep` with cohen_d = 1.291555 and hedges_g = 1.291448, which are close to 1.20.  \n",
    "* Huge  \n",
    "All the other columns, with cohen_d and hedges_g values above 2.0.\n"
   ]
  },
  {
   "cell_type": "markdown",
   "metadata": {},
   "source": [
    "## Sharing Lower-quality News Sources and Conservative Ideology"
   ]
  },
  {
   "cell_type": "markdown",
   "metadata": {},
   "source": [
    "To see if there is a correlation between lower-quality news sources and conservative ideology, we will perform pairwise correlations between, on the one hand:\n",
    "\n",
    " * `lowqual_pr2019_fc`\n",
    " * `lowqual_lasser2019`\n",
    " * `lowqual_mbfc`\n",
    " * `lowqual_afm`\n",
    " * `lowqual_pr2019_crowd`\n",
    " * `lowqual_pr2019_crowdrep`\n",
    "\n",
    "and on the other hand:\n",
    "\n",
    " * `politics_followed` (political ideology estimated on the basis of Twitter accounts user followed)\n",
    " * `politics_hashtag`\n",
    " * `politics_sites1` (political ideology estimated on the basis of the news sites the users share, <https://doi.org/10.1126/science.aau2706>)\n",
    " * `politics_sites2` (political ideology estimated on the basis of the news sites ther users share, <https://doi.org/10.31219/osf.io/ch8gj>)\n",
    "\n",
    "We will first create a **correlation table**.  \n",
    "A **correlation table** is a matrix that shows the strength and direction of the linear relationships between pairs of variables, with values ranging from -1 (perfect negative correlation) to +1 (perfect positive correlation)."
   ]
  },
  {
   "cell_type": "code",
   "execution_count": 19,
   "metadata": {
    "dotnet_interactive": {
     "language": "csharp"
    },
    "polyglot_notebook": {
     "kernelName": "csharp"
    }
   },
   "outputs": [
    {
     "data": {
      "text/html": [
       "<div>\n",
       "<style scoped>\n",
       "    .dataframe tbody tr th:only-of-type {\n",
       "        vertical-align: middle;\n",
       "    }\n",
       "\n",
       "    .dataframe tbody tr th {\n",
       "        vertical-align: top;\n",
       "    }\n",
       "\n",
       "    .dataframe thead th {\n",
       "        text-align: right;\n",
       "    }\n",
       "</style>\n",
       "<table border=\"1\" class=\"dataframe\">\n",
       "  <thead>\n",
       "    <tr style=\"text-align: right;\">\n",
       "      <th></th>\n",
       "      <th>lowqual_pr2019_fc</th>\n",
       "      <th>lowqual_lasser2019</th>\n",
       "      <th>lowqual_mbfc</th>\n",
       "      <th>lowqual_afm</th>\n",
       "      <th>lowqual_pr2019_crowd</th>\n",
       "      <th>lowqual_pr2019_crowdrep</th>\n",
       "      <th>politics_followed</th>\n",
       "      <th>politics_hashtag</th>\n",
       "      <th>politics_sites1</th>\n",
       "      <th>politics_sites2</th>\n",
       "    </tr>\n",
       "  </thead>\n",
       "  <tbody>\n",
       "    <tr>\n",
       "      <th>lowqual_pr2019_fc</th>\n",
       "      <td>1.000000</td>\n",
       "      <td>0.871403</td>\n",
       "      <td>0.772122</td>\n",
       "      <td>0.887848</td>\n",
       "      <td>0.966151</td>\n",
       "      <td>0.795272</td>\n",
       "      <td>0.807597</td>\n",
       "      <td>0.836404</td>\n",
       "      <td>0.880159</td>\n",
       "      <td>0.859007</td>\n",
       "    </tr>\n",
       "    <tr>\n",
       "      <th>lowqual_lasser2019</th>\n",
       "      <td>0.871403</td>\n",
       "      <td>1.000000</td>\n",
       "      <td>0.822830</td>\n",
       "      <td>0.906733</td>\n",
       "      <td>0.850479</td>\n",
       "      <td>0.680396</td>\n",
       "      <td>0.779873</td>\n",
       "      <td>0.794237</td>\n",
       "      <td>0.848869</td>\n",
       "      <td>0.864055</td>\n",
       "    </tr>\n",
       "    <tr>\n",
       "      <th>lowqual_mbfc</th>\n",
       "      <td>0.772122</td>\n",
       "      <td>0.822830</td>\n",
       "      <td>1.000000</td>\n",
       "      <td>0.801913</td>\n",
       "      <td>0.727969</td>\n",
       "      <td>0.558676</td>\n",
       "      <td>0.747274</td>\n",
       "      <td>0.760225</td>\n",
       "      <td>0.790331</td>\n",
       "      <td>0.792920</td>\n",
       "    </tr>\n",
       "    <tr>\n",
       "      <th>lowqual_afm</th>\n",
       "      <td>0.887848</td>\n",
       "      <td>0.906733</td>\n",
       "      <td>0.801913</td>\n",
       "      <td>1.000000</td>\n",
       "      <td>0.862526</td>\n",
       "      <td>0.704555</td>\n",
       "      <td>0.770213</td>\n",
       "      <td>0.793191</td>\n",
       "      <td>0.850432</td>\n",
       "      <td>0.840178</td>\n",
       "    </tr>\n",
       "    <tr>\n",
       "      <th>lowqual_pr2019_crowd</th>\n",
       "      <td>0.966151</td>\n",
       "      <td>0.850479</td>\n",
       "      <td>0.727969</td>\n",
       "      <td>0.862526</td>\n",
       "      <td>1.000000</td>\n",
       "      <td>0.890095</td>\n",
       "      <td>0.753201</td>\n",
       "      <td>0.786570</td>\n",
       "      <td>0.817428</td>\n",
       "      <td>0.791918</td>\n",
       "    </tr>\n",
       "    <tr>\n",
       "      <th>lowqual_pr2019_crowdrep</th>\n",
       "      <td>0.795272</td>\n",
       "      <td>0.680396</td>\n",
       "      <td>0.558676</td>\n",
       "      <td>0.704555</td>\n",
       "      <td>0.890095</td>\n",
       "      <td>1.000000</td>\n",
       "      <td>0.540025</td>\n",
       "      <td>0.582906</td>\n",
       "      <td>0.582480</td>\n",
       "      <td>0.559472</td>\n",
       "    </tr>\n",
       "    <tr>\n",
       "      <th>politics_followed</th>\n",
       "      <td>0.807597</td>\n",
       "      <td>0.779873</td>\n",
       "      <td>0.747274</td>\n",
       "      <td>0.770213</td>\n",
       "      <td>0.753201</td>\n",
       "      <td>0.540025</td>\n",
       "      <td>1.000000</td>\n",
       "      <td>0.861470</td>\n",
       "      <td>0.878954</td>\n",
       "      <td>0.860582</td>\n",
       "    </tr>\n",
       "    <tr>\n",
       "      <th>politics_hashtag</th>\n",
       "      <td>0.836404</td>\n",
       "      <td>0.794237</td>\n",
       "      <td>0.760225</td>\n",
       "      <td>0.793191</td>\n",
       "      <td>0.786570</td>\n",
       "      <td>0.582906</td>\n",
       "      <td>0.861470</td>\n",
       "      <td>1.000000</td>\n",
       "      <td>0.879236</td>\n",
       "      <td>0.857461</td>\n",
       "    </tr>\n",
       "    <tr>\n",
       "      <th>politics_sites1</th>\n",
       "      <td>0.880159</td>\n",
       "      <td>0.848869</td>\n",
       "      <td>0.790331</td>\n",
       "      <td>0.850432</td>\n",
       "      <td>0.817428</td>\n",
       "      <td>0.582480</td>\n",
       "      <td>0.878954</td>\n",
       "      <td>0.879236</td>\n",
       "      <td>1.000000</td>\n",
       "      <td>0.938906</td>\n",
       "    </tr>\n",
       "    <tr>\n",
       "      <th>politics_sites2</th>\n",
       "      <td>0.859007</td>\n",
       "      <td>0.864055</td>\n",
       "      <td>0.792920</td>\n",
       "      <td>0.840178</td>\n",
       "      <td>0.791918</td>\n",
       "      <td>0.559472</td>\n",
       "      <td>0.860582</td>\n",
       "      <td>0.857461</td>\n",
       "      <td>0.938906</td>\n",
       "      <td>1.000000</td>\n",
       "    </tr>\n",
       "  </tbody>\n",
       "</table>\n",
       "</div>"
      ],
      "text/plain": [
       "                         lowqual_pr2019_fc  lowqual_lasser2019  lowqual_mbfc  \\\n",
       "lowqual_pr2019_fc                 1.000000            0.871403      0.772122   \n",
       "lowqual_lasser2019                0.871403            1.000000      0.822830   \n",
       "lowqual_mbfc                      0.772122            0.822830      1.000000   \n",
       "lowqual_afm                       0.887848            0.906733      0.801913   \n",
       "lowqual_pr2019_crowd              0.966151            0.850479      0.727969   \n",
       "lowqual_pr2019_crowdrep           0.795272            0.680396      0.558676   \n",
       "politics_followed                 0.807597            0.779873      0.747274   \n",
       "politics_hashtag                  0.836404            0.794237      0.760225   \n",
       "politics_sites1                   0.880159            0.848869      0.790331   \n",
       "politics_sites2                   0.859007            0.864055      0.792920   \n",
       "\n",
       "                         lowqual_afm  lowqual_pr2019_crowd  \\\n",
       "lowqual_pr2019_fc           0.887848              0.966151   \n",
       "lowqual_lasser2019          0.906733              0.850479   \n",
       "lowqual_mbfc                0.801913              0.727969   \n",
       "lowqual_afm                 1.000000              0.862526   \n",
       "lowqual_pr2019_crowd        0.862526              1.000000   \n",
       "lowqual_pr2019_crowdrep     0.704555              0.890095   \n",
       "politics_followed           0.770213              0.753201   \n",
       "politics_hashtag            0.793191              0.786570   \n",
       "politics_sites1             0.850432              0.817428   \n",
       "politics_sites2             0.840178              0.791918   \n",
       "\n",
       "                         lowqual_pr2019_crowdrep  politics_followed  \\\n",
       "lowqual_pr2019_fc                       0.795272           0.807597   \n",
       "lowqual_lasser2019                      0.680396           0.779873   \n",
       "lowqual_mbfc                            0.558676           0.747274   \n",
       "lowqual_afm                             0.704555           0.770213   \n",
       "lowqual_pr2019_crowd                    0.890095           0.753201   \n",
       "lowqual_pr2019_crowdrep                 1.000000           0.540025   \n",
       "politics_followed                       0.540025           1.000000   \n",
       "politics_hashtag                        0.582906           0.861470   \n",
       "politics_sites1                         0.582480           0.878954   \n",
       "politics_sites2                         0.559472           0.860582   \n",
       "\n",
       "                         politics_hashtag  politics_sites1  politics_sites2  \n",
       "lowqual_pr2019_fc                0.836404         0.880159         0.859007  \n",
       "lowqual_lasser2019               0.794237         0.848869         0.864055  \n",
       "lowqual_mbfc                     0.760225         0.790331         0.792920  \n",
       "lowqual_afm                      0.793191         0.850432         0.840178  \n",
       "lowqual_pr2019_crowd             0.786570         0.817428         0.791918  \n",
       "lowqual_pr2019_crowdrep          0.582906         0.582480         0.559472  \n",
       "politics_followed                0.861470         0.878954         0.860582  \n",
       "politics_hashtag                 1.000000         0.879236         0.857461  \n",
       "politics_sites1                  0.879236         1.000000         0.938906  \n",
       "politics_sites2                  0.857461         0.938906         1.000000  "
      ]
     },
     "execution_count": 19,
     "metadata": {},
     "output_type": "execute_result"
    }
   ],
   "source": [
    "correlation_df = mosleh_and_al_data[['lowqual_pr2019_fc', 'lowqual_lasser2019', 'lowqual_mbfc', \n",
    "                                     'lowqual_afm', 'lowqual_pr2019_crowd', 'lowqual_pr2019_crowdrep', \n",
    "                                     'politics_followed', 'politics_hashtag', 'politics_sites1', 'politics_sites2']].copy()\n",
    "\n",
    "correlation_df = correlation_df.corr()\n",
    "correlation_df"
   ]
  },
  {
   "cell_type": "markdown",
   "metadata": {},
   "source": [
    "Let's modify the dataframe to only keep the pairs we care about"
   ]
  },
  {
   "cell_type": "code",
   "execution_count": 20,
   "metadata": {
    "dotnet_interactive": {
     "language": "csharp"
    },
    "polyglot_notebook": {
     "kernelName": "csharp"
    }
   },
   "outputs": [
    {
     "data": {
      "text/html": [
       "<div>\n",
       "<style scoped>\n",
       "    .dataframe tbody tr th:only-of-type {\n",
       "        vertical-align: middle;\n",
       "    }\n",
       "\n",
       "    .dataframe tbody tr th {\n",
       "        vertical-align: top;\n",
       "    }\n",
       "\n",
       "    .dataframe thead th {\n",
       "        text-align: right;\n",
       "    }\n",
       "</style>\n",
       "<table border=\"1\" class=\"dataframe\">\n",
       "  <thead>\n",
       "    <tr style=\"text-align: right;\">\n",
       "      <th></th>\n",
       "      <th>politics_followed</th>\n",
       "      <th>politics_hashtag</th>\n",
       "      <th>politics_sites1</th>\n",
       "      <th>politics_sites2</th>\n",
       "    </tr>\n",
       "  </thead>\n",
       "  <tbody>\n",
       "    <tr>\n",
       "      <th>lowqual_pr2019_fc</th>\n",
       "      <td>0.807597</td>\n",
       "      <td>0.836404</td>\n",
       "      <td>0.880159</td>\n",
       "      <td>0.859007</td>\n",
       "    </tr>\n",
       "    <tr>\n",
       "      <th>lowqual_lasser2019</th>\n",
       "      <td>0.779873</td>\n",
       "      <td>0.794237</td>\n",
       "      <td>0.848869</td>\n",
       "      <td>0.864055</td>\n",
       "    </tr>\n",
       "    <tr>\n",
       "      <th>lowqual_mbfc</th>\n",
       "      <td>0.747274</td>\n",
       "      <td>0.760225</td>\n",
       "      <td>0.790331</td>\n",
       "      <td>0.792920</td>\n",
       "    </tr>\n",
       "    <tr>\n",
       "      <th>lowqual_afm</th>\n",
       "      <td>0.770213</td>\n",
       "      <td>0.793191</td>\n",
       "      <td>0.850432</td>\n",
       "      <td>0.840178</td>\n",
       "    </tr>\n",
       "    <tr>\n",
       "      <th>lowqual_pr2019_crowd</th>\n",
       "      <td>0.753201</td>\n",
       "      <td>0.786570</td>\n",
       "      <td>0.817428</td>\n",
       "      <td>0.791918</td>\n",
       "    </tr>\n",
       "    <tr>\n",
       "      <th>lowqual_pr2019_crowdrep</th>\n",
       "      <td>0.540025</td>\n",
       "      <td>0.582906</td>\n",
       "      <td>0.582480</td>\n",
       "      <td>0.559472</td>\n",
       "    </tr>\n",
       "  </tbody>\n",
       "</table>\n",
       "</div>"
      ],
      "text/plain": [
       "                         politics_followed  politics_hashtag  politics_sites1  \\\n",
       "lowqual_pr2019_fc                 0.807597          0.836404         0.880159   \n",
       "lowqual_lasser2019                0.779873          0.794237         0.848869   \n",
       "lowqual_mbfc                      0.747274          0.760225         0.790331   \n",
       "lowqual_afm                       0.770213          0.793191         0.850432   \n",
       "lowqual_pr2019_crowd              0.753201          0.786570         0.817428   \n",
       "lowqual_pr2019_crowdrep           0.540025          0.582906         0.582480   \n",
       "\n",
       "                         politics_sites2  \n",
       "lowqual_pr2019_fc               0.859007  \n",
       "lowqual_lasser2019              0.864055  \n",
       "lowqual_mbfc                    0.792920  \n",
       "lowqual_afm                     0.840178  \n",
       "lowqual_pr2019_crowd            0.791918  \n",
       "lowqual_pr2019_crowdrep         0.559472  "
      ]
     },
     "execution_count": 20,
     "metadata": {},
     "output_type": "execute_result"
    }
   ],
   "source": [
    "correlation_df = correlation_df.drop(['lowqual_pr2019_fc', 'lowqual_lasser2019', 'lowqual_mbfc', 'lowqual_afm', 'lowqual_pr2019_crowd', 'lowqual_pr2019_crowdrep'], axis=1)\n",
    "correlation_df = correlation_df.drop(['politics_followed', 'politics_hashtag', 'politics_sites1', 'politics_sites2'], axis=0)\n",
    "\n",
    "correlation_df"
   ]
  },
  {
   "cell_type": "markdown",
   "metadata": {},
   "source": [
    "Now, let's  display the results in a **heatmap**"
   ]
  },
  {
   "cell_type": "code",
   "execution_count": 21,
   "metadata": {
    "dotnet_interactive": {
     "language": "csharp"
    },
    "polyglot_notebook": {
     "kernelName": "csharp"
    }
   },
   "outputs": [
    {
     "data": {
      "image/png": "[encoded data removed]",
      "text/plain": [
       "<Figure size 640x480 with 2 Axes>"
      ]
     },
     "metadata": {},
     "output_type": "display_data"
    }
   ],
   "source": [
    "# modifying the colors (not a necessary step)\n",
    "from matplotlib.colors import LinearSegmentedColormap\n",
    "colors = [ \"#a5cd90\",\"#2c3172\"]\n",
    "custom_cmap = LinearSegmentedColormap.from_list(\"custom_green_blue\", colors)\n",
    "\n",
    "sns.heatmap(correlation_df, annot=True, cmap=custom_cmap, fmt=\".2f\")\n",
    "plt.xticks(rotation=45, ha='right') # slight rotation of the titles  \n",
    "\n",
    "plt.show()"
   ]
  },
  {
   "cell_type": "markdown",
   "metadata": {},
   "source": [
    "## News Sharing Can Help Explain Suspension, Using Single Predictors"
   ]
  },
  {
   "cell_type": "markdown",
   "metadata": {},
   "source": [
    "We will use the following predictors to predict whether a user was suspended or not:\n",
    "\n",
    "  * `politics_hashtag`\n",
    "  * `politics_sites1`\n",
    "  * `politics_sites2`\n",
    "  * `politics_followed`\n",
    "  * `lowqual_afm`\n",
    "  * `lowqual_mbfc`\n",
    "  * `lowqual_lasser2019`\n",
    "  * `lowqual_pr2019_fc`\n",
    "  * `lowqual_pr2019_crowd`\n",
    "\n",
    "The predictions will be with a probit model. The probit model is an alternative to logit, but while the latter uses the logit as the *link function*, the probit model uses the inverse of the cumulative distribution function (CDF) of the standard normal distribution (denoted as $\\Phi^{-1}$) as the link function. Mathematically:\n",
    "\n",
    "$$ \\Phi^{-1}(P(Y = 1 | X)) = X\\beta $$\n",
    "\n",
    "where $P(Y = 1  | X)$ is the probability of the event occurring, $X$ represents the independent variables, and $\\beta$ is the vector of coefficients."
   ]
  },
  {
   "cell_type": "markdown",
   "metadata": {},
   "source": [
    "**Step 1:**  \n",
    "We will use the `statsmodels` library to fit a probit regression model.  \n",
    "First, we will define the predictors (independent variables) and the target (dependent variable) for the analysis.   \n",
    "We will then add a constant (intercept) to the predictors using `sm.add_constant()`.  \n",
    "The probit model is then fitted using the `Probit` function from `statsmodels`, with the target variable `y` (suspension column) and predictors `X` (the  columns we use for the prediction of suspension).  \n",
    "Finally, we print the summary of the model results, which includes details about the coefficients, statistical significance, and model fit.\n"
   ]
  },
  {
   "cell_type": "code",
   "execution_count": 22,
   "metadata": {
    "dotnet_interactive": {
     "language": "csharp"
    },
    "polyglot_notebook": {
     "kernelName": "csharp"
    }
   },
   "outputs": [
    {
     "name": "stdout",
     "output_type": "stream",
     "text": [
      "Optimization terminated successfully.\n",
      "         Current function value: 0.303324\n",
      "         Iterations 7\n",
      "========================================================================================\n",
      "                           coef    std err          z      P>|z|      [0.025      0.975]\n",
      "----------------------------------------------------------------------------------------\n",
      "const                   -0.8687      0.650     -1.337      0.181      -2.143       0.405\n",
      "politics_hashtag         0.3906      0.104      3.770      0.000       0.188       0.594\n",
      "politics_sites1         -0.1895      0.084     -2.251      0.024      -0.354      -0.025\n",
      "politics_sites2          0.3545      0.212      1.675      0.094      -0.060       0.769\n",
      "politics_followed        0.0227      0.036      0.637      0.524      -0.047       0.092\n",
      "lowqual_afm              2.0507      0.468      4.379      0.000       1.133       2.969\n",
      "lowqual_mbfc             0.8001      0.364      2.195      0.028       0.086       1.514\n",
      "lowqual_lasser2019      -0.0631      0.285     -0.222      0.825      -0.621       0.495\n",
      "lowqual_pr2019_fc        1.1097      0.514      2.160      0.031       0.103       2.117\n",
      "lowqual_pr2019_crowd    -3.3308      1.354     -2.461      0.014      -5.984      -0.678\n",
      "========================================================================================\n"
     ]
    }
   ],
   "source": [
    "import statsmodels.api as sm\n",
    "predictors = ['politics_hashtag', 'politics_sites1', 'politics_sites2', 'politics_followed', \n",
    "              'lowqual_afm', 'lowqual_mbfc', 'lowqual_lasser2019', \n",
    "              'lowqual_pr2019_fc', 'lowqual_pr2019_crowd']\n",
    "target = 'suspended'\n",
    "\n",
    "X = mosleh_and_al_data[predictors]\n",
    "X = sm.add_constant(X)\n",
    "\n",
    "y = mosleh_and_al_data[target]\n",
    "\n",
    "probit_model = sm.Probit(y, X)\n",
    "probit_result = probit_model.fit()\n",
    "\n",
    "print(probit_result.summary().tables[1])"
   ]
  },
  {
   "cell_type": "markdown",
   "metadata": {},
   "source": [
    "**Step 2:**  \n",
    "We will extract the coefficients from the fitted probit model.  \n",
    "The `probit_result.params` attribute contains the estimated coefficients (β values) for each predictor, including the constant.  \n",
    "We will assign these coefficients to the variable `beta` and print the values to see the impact of each predictor on the outcome (suspension)."
   ]
  },
  {
   "cell_type": "code",
   "execution_count": 23,
   "metadata": {
    "dotnet_interactive": {
     "language": "csharp"
    },
    "polyglot_notebook": {
     "kernelName": "csharp"
    }
   },
   "outputs": [
    {
     "name": "stdout",
     "output_type": "stream",
     "text": [
      "const                  -0.868716\n",
      "politics_hashtag        0.390582\n",
      "politics_sites1        -0.189465\n",
      "politics_sites2         0.354523\n",
      "politics_followed       0.022682\n",
      "lowqual_afm             2.050733\n",
      "lowqual_mbfc            0.800062\n",
      "lowqual_lasser2019     -0.063104\n",
      "lowqual_pr2019_fc       1.109743\n",
      "lowqual_pr2019_crowd   -3.330799\n",
      "dtype: float64\n"
     ]
    }
   ],
   "source": [
    "beta = probit_result.params\n",
    "print(beta)"
   ]
  },
  {
   "cell_type": "markdown",
   "metadata": {},
   "source": [
    "The probit regression results show that several predictors are significantly associated with the likelihood of being suspended. The variables `politics_hashtag` (positive), `lowqual_afm` (positive), `lowqual_mbfc` (positive), and `lowqual_pr2019_fc` (positive) have statistically significant positive coefficients, indicating that as these variables increase, the probability of suspension increases. In contrast, `politics_sites1` and `lowqual_pr2019_crowd` have significant negative coefficients, suggesting that higher values of these variables decrease the likelihood of suspension. Other variables, such as `politics_sites2`, `politics_followed`, and `lowqual_lasser2019`, do not show significant effects on the suspension probability at the 5% significance level."
   ]
  },
  {
   "cell_type": "markdown",
   "metadata": {},
   "source": [
    "**Step 3:**  \n",
    "We will calculate the inverse of the cumulative distribution function (CDF) using the fitted coefficients.  \n",
    "The `phi_inverse` is computed by performing a dot product of the predictor matrix `X` (including the constant) and the coefficient vector `beta`.  \n",
    "This gives the linear predictions or the log-odds for each observation in the dataset, which we then print to examine the results.\n"
   ]
  },
  {
   "cell_type": "code",
   "execution_count": 24,
   "metadata": {
    "dotnet_interactive": {
     "language": "csharp"
    },
    "polyglot_notebook": {
     "kernelName": "csharp"
    }
   },
   "outputs": [
    {
     "name": "stdout",
     "output_type": "stream",
     "text": [
      "[-1.82400307 -0.51406709 -2.00224675 ... -0.77391459 -1.00429405\n",
      " -1.88449046]\n"
     ]
    }
   ],
   "source": [
    "phi_inverse = np.dot(X, beta)\n",
    "\n",
    "print(phi_inverse)"
   ]
  },
  {
   "cell_type": "markdown",
   "metadata": {},
   "source": [
    "The values we see represent the result of applying the inverse of the cumulative distribution function (CDF) of the standard normal distribution, denoted as **Φ⁻¹**, to the predicted probabilities for each observation in the dataset. These values are the **latent variables** or **linear predictors**, which are calculated by taking the weighted sum of the predictors (**X**) and their corresponding coefficients (**β**). Essentially, they represent the **log-odds** of the binary outcome (**Y = 1**) given the values of the predictors, before transforming them into actual probabilities through the CDF.\n"
   ]
  },
  {
   "cell_type": "markdown",
   "metadata": {},
   "source": [
    "**Step 4:**  \n",
    "We will compute the predicted probabilities using the cumulative distribution function (CDF) of the standard normal distribution.  \n",
    "The `norm.cdf()` function is applied to `phi_inverse` to transform the linear predictions into probabilities.  \n",
    "Next, we calculate the Area Under the Curve (AUC) for the Receiver Operating Characteristic (ROC) curve using the `roc_auc_score` function from `sklearn.metrics`.  \n",
    "This provides a measure of how well the model discriminates between the classes, which we print for evaluation.\n"
   ]
  },
  {
   "cell_type": "code",
   "execution_count": 25,
   "metadata": {
    "dotnet_interactive": {
     "language": "csharp"
    },
    "polyglot_notebook": {
     "kernelName": "csharp"
    }
   },
   "outputs": [
    {
     "name": "stdout",
     "output_type": "stream",
     "text": [
      "AUC: 0.7437920976832152\n"
     ]
    }
   ],
   "source": [
    "from sklearn.metrics import roc_auc_score, roc_curve\n",
    "from scipy.stats import norm\n",
    "\n",
    "probabilities = norm.cdf(phi_inverse)\n",
    "\n",
    "auc = roc_auc_score(y, probabilities)\n",
    "print(f\"AUC: {auc}\")\n"
   ]
  },
  {
   "cell_type": "markdown",
   "metadata": {},
   "source": [
    "**Step 5:**  \n",
    "We will apply the bootstrap method to estimate confidence intervals for the AUC.  \n",
    "In this step, we perform 100 bootstrap iterations by resampling the data (`X`, `y`) with replacement using `resample()` from `sklearn.utils`.  \n",
    "For each resample, we compute the linear predictions (`phi_inverse_resampled`), transform them into probabilities using the CDF, and then calculate the AUC for the resampled dataset.  \n",
    "The AUC values from each iteration are stored in a list (`auc_scores`) to later compute the confidence intervals."
   ]
  },
  {
   "cell_type": "code",
   "execution_count": 26,
   "metadata": {
    "dotnet_interactive": {
     "language": "csharp"
    },
    "polyglot_notebook": {
     "kernelName": "csharp"
    }
   },
   "outputs": [],
   "source": [
    "from sklearn.utils import resample\n",
    "\n",
    "n_iterations = 100 \n",
    "auc_scores = []\n",
    "\n",
    "for i in range(n_iterations):\n",
    "    X_resampled, y_resampled = resample(X, y, random_state=i)\n",
    "    phi_inverse_resampled = np.dot(X_resampled, beta)\n",
    "    probabilities_resampled = norm.cdf(phi_inverse_resampled)\n",
    "    \n",
    "    auc_resampled = roc_auc_score(y_resampled, probabilities_resampled)\n",
    "    auc_scores.append(auc_resampled)"
   ]
  },
  {
   "cell_type": "markdown",
   "metadata": {},
   "source": [
    "**Step 6:**  \n",
    "We will calculate the 95% confidence interval for the AUC using the bootstrap results.  \n",
    "By calculating the 2.5th and 97.5th percentiles of the `auc_scores` list, we obtain the lower and upper bounds of the confidence interval.  \n",
    "Finally, we'll print the 95% confidence interval for the AUC, which gives us an estimate of the uncertainty around the model's performance.\n"
   ]
  },
  {
   "cell_type": "code",
   "execution_count": 27,
   "metadata": {
    "dotnet_interactive": {
     "language": "csharp"
    },
    "polyglot_notebook": {
     "kernelName": "csharp"
    }
   },
   "outputs": [
    {
     "name": "stdout",
     "output_type": "stream",
     "text": [
      "95% Confidence Interval for AUC: (0.7264174775087858, 0.7599878040156854)\n"
     ]
    }
   ],
   "source": [
    "auc_lower = np.percentile(auc_scores, 2.5)\n",
    "auc_upper = np.percentile(auc_scores, 97.5)\n",
    "\n",
    "print(f\"95% Confidence Interval for AUC: ({auc_lower}, {auc_upper})\")"
   ]
  },
  {
   "cell_type": "markdown",
   "metadata": {},
   "source": [
    "**Step 7:**  \n",
    "We'll make the dataframe `results` to organize and display the results.  \n",
    "`results` will have the AUC and the lower bound of the confidence interval (CI Lower) and the upper bound of the confidence interval (CI Upper).  \n",
    "We will then print our dataframe, which provides a summary of the model's AUC performance along with its 95% confidence interval."
   ]
  },
  {
   "cell_type": "code",
   "execution_count": 28,
   "metadata": {
    "dotnet_interactive": {
     "language": "csharp"
    },
    "polyglot_notebook": {
     "kernelName": "csharp"
    }
   },
   "outputs": [
    {
     "name": "stdout",
     "output_type": "stream",
     "text": [
      "        AUC  CI Lower  CI Upper\n",
      "0  0.743792  0.726417  0.759988\n"
     ]
    }
   ],
   "source": [
    "results = pd.DataFrame({\n",
    "    'AUC': [auc],\n",
    "    'CI Lower': [auc_lower],\n",
    "    'CI Upper': [auc_upper]\n",
    "})\n",
    "print(results)"
   ]
  },
  {
   "cell_type": "markdown",
   "metadata": {},
   "source": [
    "**Step 8:**  \n",
    "We will plot the ROC curve to visualize the performance of the probit model.  \n",
    "Using the `roc_curve` function, we calculate the false positive rate (fpr), true positive rate (tpr), and thresholds for the model.  \n",
    "We then plot the ROC curve, labeling it with the AUC value, and include a reference line for a random classifier (AUC = 0.5).  \n",
    "The x-axis represents the false positive rate, while the y-axis represents the true positive rate. Finally, we display the plot with a legend in the lower right corner.\n"
   ]
  },
  {
   "cell_type": "code",
   "execution_count": 29,
   "metadata": {
    "dotnet_interactive": {
     "language": "csharp"
    },
    "polyglot_notebook": {
     "kernelName": "csharp"
    }
   },
   "outputs": [
    {
     "data": {
      "image/png": "[encoded data removed]",
      "text/plain": [
       "<Figure size 640x480 with 1 Axes>"
      ]
     },
     "metadata": {},
     "output_type": "display_data"
    }
   ],
   "source": [
    "fpr, tpr, thresholds = roc_curve(y, probabilities)\n",
    "plt.plot(fpr, tpr, label=f'Probit Model (AUC = {auc:.3f})')\n",
    "plt.plot([0, 1], [0, 1], 'k--')  \n",
    "plt.xlabel('False Positive Rate')\n",
    "plt.ylabel('True Positive Rate')\n",
    "plt.title('ROC Curve')\n",
    "plt.legend(loc='lower right')\n",
    "plt.show()"
   ]
  }
 ],
 "metadata": {
  "kernelspec": {
   "display_name": "Python 3",
   "language": "python",
   "name": "python3"
  },
  "language_info": {
   "codemirror_mode": {
    "name": "ipython",
    "version": 3
   },
   "file_extension": ".py",
   "mimetype": "text/x-python",
   "name": "python",
   "nbconvert_exporter": "python",
   "pygments_lexer": "ipython3",
   "version": "3.10.11"
  },
  "polyglot_notebook": {
   "kernelInfo": {
    "defaultKernelName": "csharp",
    "items": [
     {
      "aliases": [],
      "name": "csharp"
     }
    ]
   }
  }
 },
 "nbformat": 4,
 "nbformat_minor": 4
}
